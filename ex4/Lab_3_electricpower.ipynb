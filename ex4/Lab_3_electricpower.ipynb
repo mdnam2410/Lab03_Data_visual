{
 "cells": [
  {
   "cell_type": "code",
   "execution_count": 1,
   "metadata": {
    "colab": {
     "base_uri": "https://localhost:8080/"
    },
    "executionInfo": {
     "elapsed": 4015,
     "status": "ok",
     "timestamp": 1654784402925,
     "user": {
      "displayName": "Nam Mai",
      "userId": "13418946053371409704"
     },
     "user_tz": -420
    },
    "id": "5hOvFxJ0pC5l",
    "outputId": "5286de21-1348-4e2b-c16d-3a60ed1ccb81"
   },
   "outputs": [
    {
     "name": "stderr",
     "output_type": "stream",
     "text": [
      "Matplotlib is building the font cache; this may take a moment.\n"
     ]
    }
   ],
   "source": [
    "import io\n",
    "\n",
    "import matplotlib.pyplot as plt\n",
    "from matplotlib.dates import DateFormatter, WeekdayLocator\n",
    "import matplotlib.ticker as ticker\n",
    "\n",
    "import numpy as np\n",
    "import pandas as pd"
   ]
  },
  {
   "cell_type": "markdown",
   "metadata": {
    "id": "vxo5WxTVGIRt"
   },
   "source": [
    "# Loading data"
   ]
  },
  {
   "cell_type": "code",
   "execution_count": 2,
   "metadata": {
    "colab": {
     "base_uri": "https://localhost:8080/"
    },
    "executionInfo": {
     "elapsed": 220,
     "status": "ok",
     "timestamp": 1654784402936,
     "user": {
      "displayName": "Nam Mai",
      "userId": "13418946053371409704"
     },
     "user_tz": -420
    },
    "id": "c14J8WVPrzGA",
    "outputId": "bf85d017-acf7-49fb-e678-c0f00f56902c"
   },
   "outputs": [],
   "source": [
    "# # Create a symlink to the data file so that the notebook is in the same\n",
    "# # directory as the file\n",
    "\n",
    "# # When submitting, simply delete this cell\n",
    "\n",
    "# data_path = '/content/drive/My\\\\ Drive/Documents/HCMUS/Trực\\\\ quan\\\\ hóa\\\\ dữ\\\\ liệu/Lab\\\\ 3/household_power_consumption.txt'\n",
    "# !ln -s $data_path"
   ]
  },
  {
   "cell_type": "code",
   "execution_count": 3,
   "metadata": {
    "executionInfo": {
     "elapsed": 139,
     "status": "ok",
     "timestamp": 1654784402941,
     "user": {
      "displayName": "Nam Mai",
      "userId": "13418946053371409704"
     },
     "user_tz": -420
    },
    "id": "bFNT00N-vGX1"
   },
   "outputs": [],
   "source": [
    "# # Check which lines contain data from 2007-02-01 to 2007-02-02\n",
    "\n",
    "# # Number of lines\n",
    "# num_lines = !wc -l \"household_power_consumption.txt\" | sed 's/\\([0-9]*\\).*/\\1/'\n",
    "# num_lines = int(num_lines[0]) - 1\n",
    "\n",
    "# # Index of the first line containing 1/2/2007\n",
    "# start = !grep -n -m 1 \"1/2/2007\" \"household_power_consumption.txt\" | sed 's/\\([0-9]*\\).*/\\1/'\n",
    "\n",
    "# # Minus 1 because grep counts from 1\n",
    "# start = int(start[0]) - 1\n",
    "\n",
    "# # Index of the last line contaning 2/2/2007\n",
    "# end = !grep -n \"^2/2/2007\" \"household_power_consumption.txt\" | tail -1 | sed 's/\\([0-9]*\\).*/\\1/'\n",
    "# end = int(end[0]) - 1\n",
    "\n",
    "# num_lines, start, end"
   ]
  },
  {
   "cell_type": "code",
   "execution_count": 4,
   "metadata": {
    "executionInfo": {
     "elapsed": 144,
     "status": "ok",
     "timestamp": 1654784402951,
     "user": {
      "displayName": "Nam Mai",
      "userId": "13418946053371409704"
     },
     "user_tz": -420
    },
    "id": "JlUhu9NMBhVF"
   },
   "outputs": [],
   "source": [
    "# # Which lines of the file to keep\n",
    "# keep_rows = np.arange(start, end+1)\n",
    "# keep_rows"
   ]
  },
  {
   "cell_type": "code",
   "execution_count": 5,
   "metadata": {
    "executionInfo": {
     "elapsed": 138,
     "status": "ok",
     "timestamp": 1654784402955,
     "user": {
      "displayName": "Nam Mai",
      "userId": "13418946053371409704"
     },
     "user_tz": -420
    },
    "id": "IPsLbU6HsOCu"
   },
   "outputs": [],
   "source": [
    "# df = pd.read_csv(\n",
    "#     'household_power_consumption.txt',\n",
    "#     delimiter=';',\n",
    "#     na_values='?',\n",
    "#     header=None,\n",
    "#     skiprows=lambda x: x not in keep_rows,\n",
    "# )\n",
    "# df"
   ]
  },
  {
   "cell_type": "code",
   "execution_count": 6,
   "metadata": {
    "executionInfo": {
     "elapsed": 137,
     "status": "ok",
     "timestamp": 1654784402958,
     "user": {
      "displayName": "Nam Mai",
      "userId": "13418946053371409704"
     },
     "user_tz": -420
    },
    "id": "U6S_jxaWE-x7"
   },
   "outputs": [],
   "source": [
    "# # header = !head -1 \"household_power_consumption.txt\"\n",
    "# header = open('household_power_consumption.txt').readline()\n",
    "# # header = header[0]\n",
    "# header = header.split(';')\n",
    "# header"
   ]
  },
  {
   "cell_type": "code",
   "execution_count": 7,
   "metadata": {
    "executionInfo": {
     "elapsed": 146,
     "status": "ok",
     "timestamp": 1654784402969,
     "user": {
      "displayName": "Nam Mai",
      "userId": "13418946053371409704"
     },
     "user_tz": -420
    },
    "id": "NrfBgaElFRdO"
   },
   "outputs": [],
   "source": [
    "# df.columns = header\n",
    "# df.head()"
   ]
  },
  {
   "cell_type": "code",
   "execution_count": 8,
   "metadata": {
    "executionInfo": {
     "elapsed": 677,
     "status": "ok",
     "timestamp": 1654784403517,
     "user": {
      "displayName": "Nam Mai",
      "userId": "13418946053371409704"
     },
     "user_tz": -420
    },
    "id": "mBQqdtVvAlww"
   },
   "outputs": [],
   "source": [
    "file_io = open('household_power_consumption.txt')\n",
    "header = file_io.readline()\n",
    "columns = header.strip().split(';')\n",
    "\n",
    "sliced = ''\n",
    "for line in file_io:\n",
    "    if line.startswith('1/2/2007') or line.startswith('2/2/2007'):\n",
    "        sliced += line"
   ]
  },
  {
   "cell_type": "code",
   "execution_count": 9,
   "metadata": {
    "colab": {
     "base_uri": "https://localhost:8080/",
     "height": 206
    },
    "executionInfo": {
     "elapsed": 1087,
     "status": "ok",
     "timestamp": 1654784404587,
     "user": {
      "displayName": "Nam Mai",
      "userId": "13418946053371409704"
     },
     "user_tz": -420
    },
    "id": "mCQNqnTfCK23",
    "outputId": "b360c9ba-784a-4590-9aba-fe80c2cdf159"
   },
   "outputs": [
    {
     "data": {
      "text/html": [
       "<div>\n",
       "<style scoped>\n",
       "    .dataframe tbody tr th:only-of-type {\n",
       "        vertical-align: middle;\n",
       "    }\n",
       "\n",
       "    .dataframe tbody tr th {\n",
       "        vertical-align: top;\n",
       "    }\n",
       "\n",
       "    .dataframe thead th {\n",
       "        text-align: right;\n",
       "    }\n",
       "</style>\n",
       "<table border=\"1\" class=\"dataframe\">\n",
       "  <thead>\n",
       "    <tr style=\"text-align: right;\">\n",
       "      <th></th>\n",
       "      <th>Date</th>\n",
       "      <th>Time</th>\n",
       "      <th>Global_active_power</th>\n",
       "      <th>Global_reactive_power</th>\n",
       "      <th>Voltage</th>\n",
       "      <th>Global_intensity</th>\n",
       "      <th>Sub_metering_1</th>\n",
       "      <th>Sub_metering_2</th>\n",
       "      <th>Sub_metering_3</th>\n",
       "    </tr>\n",
       "  </thead>\n",
       "  <tbody>\n",
       "    <tr>\n",
       "      <th>0</th>\n",
       "      <td>1/2/2007</td>\n",
       "      <td>00:00:00</td>\n",
       "      <td>0.326</td>\n",
       "      <td>0.128</td>\n",
       "      <td>243.15</td>\n",
       "      <td>1.4</td>\n",
       "      <td>0.0</td>\n",
       "      <td>0.0</td>\n",
       "      <td>0.0</td>\n",
       "    </tr>\n",
       "    <tr>\n",
       "      <th>1</th>\n",
       "      <td>1/2/2007</td>\n",
       "      <td>00:01:00</td>\n",
       "      <td>0.326</td>\n",
       "      <td>0.130</td>\n",
       "      <td>243.32</td>\n",
       "      <td>1.4</td>\n",
       "      <td>0.0</td>\n",
       "      <td>0.0</td>\n",
       "      <td>0.0</td>\n",
       "    </tr>\n",
       "    <tr>\n",
       "      <th>2</th>\n",
       "      <td>1/2/2007</td>\n",
       "      <td>00:02:00</td>\n",
       "      <td>0.324</td>\n",
       "      <td>0.132</td>\n",
       "      <td>243.51</td>\n",
       "      <td>1.4</td>\n",
       "      <td>0.0</td>\n",
       "      <td>0.0</td>\n",
       "      <td>0.0</td>\n",
       "    </tr>\n",
       "    <tr>\n",
       "      <th>3</th>\n",
       "      <td>1/2/2007</td>\n",
       "      <td>00:03:00</td>\n",
       "      <td>0.324</td>\n",
       "      <td>0.134</td>\n",
       "      <td>243.90</td>\n",
       "      <td>1.4</td>\n",
       "      <td>0.0</td>\n",
       "      <td>0.0</td>\n",
       "      <td>0.0</td>\n",
       "    </tr>\n",
       "    <tr>\n",
       "      <th>4</th>\n",
       "      <td>1/2/2007</td>\n",
       "      <td>00:04:00</td>\n",
       "      <td>0.322</td>\n",
       "      <td>0.130</td>\n",
       "      <td>243.16</td>\n",
       "      <td>1.4</td>\n",
       "      <td>0.0</td>\n",
       "      <td>0.0</td>\n",
       "      <td>0.0</td>\n",
       "    </tr>\n",
       "  </tbody>\n",
       "</table>\n",
       "</div>"
      ],
      "text/plain": [
       "       Date      Time  Global_active_power  Global_reactive_power  Voltage  \\\n",
       "0  1/2/2007  00:00:00                0.326                  0.128   243.15   \n",
       "1  1/2/2007  00:01:00                0.326                  0.130   243.32   \n",
       "2  1/2/2007  00:02:00                0.324                  0.132   243.51   \n",
       "3  1/2/2007  00:03:00                0.324                  0.134   243.90   \n",
       "4  1/2/2007  00:04:00                0.322                  0.130   243.16   \n",
       "\n",
       "   Global_intensity  Sub_metering_1  Sub_metering_2  Sub_metering_3  \n",
       "0               1.4             0.0             0.0             0.0  \n",
       "1               1.4             0.0             0.0             0.0  \n",
       "2               1.4             0.0             0.0             0.0  \n",
       "3               1.4             0.0             0.0             0.0  \n",
       "4               1.4             0.0             0.0             0.0  "
      ]
     },
     "execution_count": 9,
     "metadata": {},
     "output_type": "execute_result"
    }
   ],
   "source": [
    "df = pd.read_csv(io.StringIO(sliced), na_values='?', delimiter=';', header=None)\n",
    "df.columns = columns\n",
    "df.head()"
   ]
  },
  {
   "cell_type": "code",
   "execution_count": 10,
   "metadata": {
    "colab": {
     "base_uri": "https://localhost:8080/"
    },
    "executionInfo": {
     "elapsed": 249,
     "status": "ok",
     "timestamp": 1654784404589,
     "user": {
      "displayName": "Nam Mai",
      "userId": "13418946053371409704"
     },
     "user_tz": -420
    },
    "id": "5PgkVOMZDar-",
    "outputId": "5df27820-1b74-4ec8-9b3a-bbab37084d6c"
   },
   "outputs": [
    {
     "data": {
      "text/plain": [
       "(2880, 9)"
      ]
     },
     "execution_count": 10,
     "metadata": {},
     "output_type": "execute_result"
    }
   ],
   "source": [
    "df.shape"
   ]
  },
  {
   "cell_type": "markdown",
   "metadata": {
    "id": "cqhg3lSvGM9-"
   },
   "source": [
    "# Preprocessing"
   ]
  },
  {
   "cell_type": "code",
   "execution_count": 11,
   "metadata": {
    "colab": {
     "base_uri": "https://localhost:8080/"
    },
    "executionInfo": {
     "elapsed": 242,
     "status": "ok",
     "timestamp": 1654784404598,
     "user": {
      "displayName": "Nam Mai",
      "userId": "13418946053371409704"
     },
     "user_tz": -420
    },
    "id": "HHFkMhoau8q6",
    "outputId": "585b66cf-fceb-4ea6-b2ee-ea90e95df2ff"
   },
   "outputs": [
    {
     "data": {
      "text/plain": [
       "Date                      object\n",
       "Time                      object\n",
       "Global_active_power      float64\n",
       "Global_reactive_power    float64\n",
       "Voltage                  float64\n",
       "Global_intensity         float64\n",
       "Sub_metering_1           float64\n",
       "Sub_metering_2           float64\n",
       "Sub_metering_3           float64\n",
       "dtype: object"
      ]
     },
     "execution_count": 11,
     "metadata": {},
     "output_type": "execute_result"
    }
   ],
   "source": [
    "df.dtypes"
   ]
  },
  {
   "cell_type": "code",
   "execution_count": 12,
   "metadata": {
    "colab": {
     "base_uri": "https://localhost:8080/",
     "height": 206
    },
    "executionInfo": {
     "elapsed": 228,
     "status": "ok",
     "timestamp": 1654784404603,
     "user": {
      "displayName": "Nam Mai",
      "userId": "13418946053371409704"
     },
     "user_tz": -420
    },
    "id": "82_lLbq3vjRF",
    "outputId": "0f7b113e-3c60-48b1-ac11-2575dd44872f"
   },
   "outputs": [
    {
     "data": {
      "text/html": [
       "<div>\n",
       "<style scoped>\n",
       "    .dataframe tbody tr th:only-of-type {\n",
       "        vertical-align: middle;\n",
       "    }\n",
       "\n",
       "    .dataframe tbody tr th {\n",
       "        vertical-align: top;\n",
       "    }\n",
       "\n",
       "    .dataframe thead th {\n",
       "        text-align: right;\n",
       "    }\n",
       "</style>\n",
       "<table border=\"1\" class=\"dataframe\">\n",
       "  <thead>\n",
       "    <tr style=\"text-align: right;\">\n",
       "      <th></th>\n",
       "      <th>Global_active_power</th>\n",
       "      <th>Global_reactive_power</th>\n",
       "      <th>Voltage</th>\n",
       "      <th>Global_intensity</th>\n",
       "      <th>Sub_metering_1</th>\n",
       "      <th>Sub_metering_2</th>\n",
       "      <th>Sub_metering_3</th>\n",
       "      <th>Timestamp</th>\n",
       "    </tr>\n",
       "  </thead>\n",
       "  <tbody>\n",
       "    <tr>\n",
       "      <th>0</th>\n",
       "      <td>0.326</td>\n",
       "      <td>0.128</td>\n",
       "      <td>243.15</td>\n",
       "      <td>1.4</td>\n",
       "      <td>0.0</td>\n",
       "      <td>0.0</td>\n",
       "      <td>0.0</td>\n",
       "      <td>2007-02-01 00:00:00</td>\n",
       "    </tr>\n",
       "    <tr>\n",
       "      <th>1</th>\n",
       "      <td>0.326</td>\n",
       "      <td>0.130</td>\n",
       "      <td>243.32</td>\n",
       "      <td>1.4</td>\n",
       "      <td>0.0</td>\n",
       "      <td>0.0</td>\n",
       "      <td>0.0</td>\n",
       "      <td>2007-02-01 00:01:00</td>\n",
       "    </tr>\n",
       "    <tr>\n",
       "      <th>2</th>\n",
       "      <td>0.324</td>\n",
       "      <td>0.132</td>\n",
       "      <td>243.51</td>\n",
       "      <td>1.4</td>\n",
       "      <td>0.0</td>\n",
       "      <td>0.0</td>\n",
       "      <td>0.0</td>\n",
       "      <td>2007-02-01 00:02:00</td>\n",
       "    </tr>\n",
       "    <tr>\n",
       "      <th>3</th>\n",
       "      <td>0.324</td>\n",
       "      <td>0.134</td>\n",
       "      <td>243.90</td>\n",
       "      <td>1.4</td>\n",
       "      <td>0.0</td>\n",
       "      <td>0.0</td>\n",
       "      <td>0.0</td>\n",
       "      <td>2007-02-01 00:03:00</td>\n",
       "    </tr>\n",
       "    <tr>\n",
       "      <th>4</th>\n",
       "      <td>0.322</td>\n",
       "      <td>0.130</td>\n",
       "      <td>243.16</td>\n",
       "      <td>1.4</td>\n",
       "      <td>0.0</td>\n",
       "      <td>0.0</td>\n",
       "      <td>0.0</td>\n",
       "      <td>2007-02-01 00:04:00</td>\n",
       "    </tr>\n",
       "  </tbody>\n",
       "</table>\n",
       "</div>"
      ],
      "text/plain": [
       "   Global_active_power  Global_reactive_power  Voltage  Global_intensity  \\\n",
       "0                0.326                  0.128   243.15               1.4   \n",
       "1                0.326                  0.130   243.32               1.4   \n",
       "2                0.324                  0.132   243.51               1.4   \n",
       "3                0.324                  0.134   243.90               1.4   \n",
       "4                0.322                  0.130   243.16               1.4   \n",
       "\n",
       "   Sub_metering_1  Sub_metering_2  Sub_metering_3           Timestamp  \n",
       "0             0.0             0.0             0.0 2007-02-01 00:00:00  \n",
       "1             0.0             0.0             0.0 2007-02-01 00:01:00  \n",
       "2             0.0             0.0             0.0 2007-02-01 00:02:00  \n",
       "3             0.0             0.0             0.0 2007-02-01 00:03:00  \n",
       "4             0.0             0.0             0.0 2007-02-01 00:04:00  "
      ]
     },
     "execution_count": 12,
     "metadata": {},
     "output_type": "execute_result"
    }
   ],
   "source": [
    "date_time_join = df[['Date', 'Time']].apply(\n",
    "    func=lambda x: ' '.join([x['Date'], x['Time']]),\n",
    "    axis=1\n",
    ")\n",
    "\n",
    "df['Timestamp'] = pd.to_datetime(date_time_join, dayfirst=True)\n",
    "df.drop(columns=['Date', 'Time'], inplace=True)\n",
    "df.head()"
   ]
  },
  {
   "cell_type": "code",
   "execution_count": 13,
   "metadata": {
    "colab": {
     "base_uri": "https://localhost:8080/",
     "height": 292
    },
    "executionInfo": {
     "elapsed": 221,
     "status": "ok",
     "timestamp": 1654784404607,
     "user": {
      "displayName": "Nam Mai",
      "userId": "13418946053371409704"
     },
     "user_tz": -420
    },
    "id": "4xiJdqUsHjBe",
    "outputId": "e797c9b7-2737-4550-8fa6-c411bcd2a5ad"
   },
   "outputs": [
    {
     "name": "stderr",
     "output_type": "stream",
     "text": [
      "C:\\Users\\Nam Mai\\AppData\\Local\\Temp\\ipykernel_5224\\2102073941.py:1: FutureWarning: Treating datetime data as categorical rather than numeric in `.describe` is deprecated and will be removed in a future version of pandas. Specify `datetime_is_numeric=True` to silence this warning and adopt the future behavior now.\n",
      "  df.describe(include='datetime')\n"
     ]
    },
    {
     "data": {
      "text/html": [
       "<div>\n",
       "<style scoped>\n",
       "    .dataframe tbody tr th:only-of-type {\n",
       "        vertical-align: middle;\n",
       "    }\n",
       "\n",
       "    .dataframe tbody tr th {\n",
       "        vertical-align: top;\n",
       "    }\n",
       "\n",
       "    .dataframe thead th {\n",
       "        text-align: right;\n",
       "    }\n",
       "</style>\n",
       "<table border=\"1\" class=\"dataframe\">\n",
       "  <thead>\n",
       "    <tr style=\"text-align: right;\">\n",
       "      <th></th>\n",
       "      <th>Timestamp</th>\n",
       "    </tr>\n",
       "  </thead>\n",
       "  <tbody>\n",
       "    <tr>\n",
       "      <th>count</th>\n",
       "      <td>2880</td>\n",
       "    </tr>\n",
       "    <tr>\n",
       "      <th>unique</th>\n",
       "      <td>2880</td>\n",
       "    </tr>\n",
       "    <tr>\n",
       "      <th>top</th>\n",
       "      <td>2007-02-01 00:00:00</td>\n",
       "    </tr>\n",
       "    <tr>\n",
       "      <th>freq</th>\n",
       "      <td>1</td>\n",
       "    </tr>\n",
       "    <tr>\n",
       "      <th>first</th>\n",
       "      <td>2007-02-01 00:00:00</td>\n",
       "    </tr>\n",
       "    <tr>\n",
       "      <th>last</th>\n",
       "      <td>2007-02-02 23:59:00</td>\n",
       "    </tr>\n",
       "  </tbody>\n",
       "</table>\n",
       "</div>"
      ],
      "text/plain": [
       "                  Timestamp\n",
       "count                  2880\n",
       "unique                 2880\n",
       "top     2007-02-01 00:00:00\n",
       "freq                      1\n",
       "first   2007-02-01 00:00:00\n",
       "last    2007-02-02 23:59:00"
      ]
     },
     "execution_count": 13,
     "metadata": {},
     "output_type": "execute_result"
    }
   ],
   "source": [
    "df.describe(include='datetime')"
   ]
  },
  {
   "cell_type": "markdown",
   "metadata": {
    "id": "lNRBEp1VGP3O"
   },
   "source": [
    "# Plotting"
   ]
  },
  {
   "cell_type": "code",
   "execution_count": 14,
   "metadata": {
    "executionInfo": {
     "elapsed": 220,
     "status": "ok",
     "timestamp": 1654784404624,
     "user": {
      "displayName": "Nam Mai",
      "userId": "13418946053371409704"
     },
     "user_tz": -420
    },
    "id": "nxZX3g9Yr1ke"
   },
   "outputs": [],
   "source": [
    "def plot_gap_hist(fig, ax):\n",
    "    \"\"\"Plot historgram of Global Active Power (plot 1)\n",
    "    \"\"\"\n",
    "    ax.hist(\n",
    "        df['Global_active_power'],\n",
    "        bins=np.arange(0, 8, 0.5),\n",
    "        color='red',\n",
    "        edgecolor='black',\n",
    "    )\n",
    "\n",
    "    ax.set_title('Global Active Power', fontdict={'fontweight': 'bold'})\n",
    "    ax.set_xlabel('Global Active Power (kilowatts)')\n",
    "    ax.set_ylabel('Frequency')\n",
    "\n",
    "    ax.xaxis.set_major_locator(ticker.MultipleLocator(2))\n",
    "    return ax"
   ]
  },
  {
   "cell_type": "code",
   "execution_count": 15,
   "metadata": {
    "colab": {
     "base_uri": "https://localhost:8080/",
     "height": 312
    },
    "executionInfo": {
     "elapsed": 229,
     "status": "ok",
     "timestamp": 1654784404636,
     "user": {
      "displayName": "Nam Mai",
      "userId": "13418946053371409704"
     },
     "user_tz": -420
    },
    "id": "AWaIEa9QsBwM",
    "outputId": "13a72e10-24a4-4513-b3c6-6616bb1786a0"
   },
   "outputs": [
    {
     "data": {
      "text/plain": [
       "<AxesSubplot:title={'center':'Global Active Power'}, xlabel='Global Active Power (kilowatts)', ylabel='Frequency'>"
      ]
     },
     "execution_count": 15,
     "metadata": {},
     "output_type": "execute_result"
    },
    {
     "data": {
      "image/png": "[encoded data removed]",
      "text/plain": [
       "<Figure size 432x288 with 1 Axes>"
      ]
     },
     "metadata": {
      "needs_background": "light"
     },
     "output_type": "display_data"
    }
   ],
   "source": [
    "fig1, ax1 = plt.subplots()\n",
    "plot_gap_hist(fig1, ax1)"
   ]
  },
  {
   "cell_type": "code",
   "execution_count": 16,
   "metadata": {
    "executionInfo": {
     "elapsed": 206,
     "status": "ok",
     "timestamp": 1654784404638,
     "user": {
      "displayName": "Nam Mai",
      "userId": "13418946053371409704"
     },
     "user_tz": -420
    },
    "id": "vy7Yz_q18a1D"
   },
   "outputs": [],
   "source": [
    "def set_weekday(axis):\n",
    "    axis.set_major_locator(WeekdayLocator(byweekday=(1, 2, 3, 4, 5, 6, 7)))\n",
    "    axis.set_major_formatter(DateFormatter('%a'))"
   ]
  },
  {
   "cell_type": "code",
   "execution_count": 17,
   "metadata": {
    "executionInfo": {
     "elapsed": 222,
     "status": "ok",
     "timestamp": 1654784404658,
     "user": {
      "displayName": "Nam Mai",
      "userId": "13418946053371409704"
     },
     "user_tz": -420
    },
    "id": "mWnlnAzb3oNm"
   },
   "outputs": [],
   "source": [
    "def plot_gap_time(fig, ax):\n",
    "    \"\"\"Plot Global Active Power against timestamp (plot 2)\n",
    "    \"\"\"\n",
    "    ax.plot(\n",
    "        df['Timestamp'], df['Global_active_power'],\n",
    "        color='black',\n",
    "        linewidth=0.75,\n",
    "    )\n",
    "\n",
    "    ax.set_ylabel('Global Active Power (kilowatts)')\n",
    "    # ax.xaxis.set_major_locator(WeekdayLocator(byweekday=(1, 2, 3, 4, 5, 6, 7)))\n",
    "    # ax.xaxis.set_major_formatter(DateFormatter('%a'))\n",
    "    set_weekday(ax.xaxis)\n",
    "    return ax"
   ]
  },
  {
   "cell_type": "code",
   "execution_count": 18,
   "metadata": {
    "colab": {
     "base_uri": "https://localhost:8080/",
     "height": 282
    },
    "executionInfo": {
     "elapsed": 1135,
     "status": "ok",
     "timestamp": 1654784405573,
     "user": {
      "displayName": "Nam Mai",
      "userId": "13418946053371409704"
     },
     "user_tz": -420
    },
    "id": "GVVrDbH95EXq",
    "outputId": "5166879d-49fa-4093-852e-1693c199c7dd"
   },
   "outputs": [
    {
     "data": {
      "text/plain": [
       "<AxesSubplot:ylabel='Global Active Power (kilowatts)'>"
      ]
     },
     "execution_count": 18,
     "metadata": {},
     "output_type": "execute_result"
    },
    {
     "data": {
      "image/png": "[encoded data removed]",
      "text/plain": [
       "<Figure size 432x288 with 1 Axes>"
      ]
     },
     "metadata": {
      "needs_background": "light"
     },
     "output_type": "display_data"
    }
   ],
   "source": [
    "fig2, ax2 = plt.subplots()\n",
    "plot_gap_time(fig2, ax2)"
   ]
  },
  {
   "cell_type": "code",
   "execution_count": 19,
   "metadata": {
    "executionInfo": {
     "elapsed": 119,
     "status": "ok",
     "timestamp": 1654784405576,
     "user": {
      "displayName": "Nam Mai",
      "userId": "13418946053371409704"
     },
     "user_tz": -420
    },
    "id": "s5OEFX3_5OGc"
   },
   "outputs": [],
   "source": [
    "def plot_esm_time(fig, ax):\n",
    "    \"\"\"Plot Energy Sub Metering against time (plot 3)\n",
    "    \"\"\"\n",
    "    ax.plot(\n",
    "        df['Timestamp'], df['Sub_metering_1'],\n",
    "        color='black',\n",
    "        linewidth=0.75,\n",
    "    )\n",
    "\n",
    "    ax.plot(\n",
    "        df['Timestamp'], df['Sub_metering_2'],\n",
    "        color='red',\n",
    "        linewidth=0.75,\n",
    "    )\n",
    "\n",
    "    ax.plot(\n",
    "        df['Timestamp'], df['Sub_metering_3'],\n",
    "        color='blue',\n",
    "        linewidth=0.75,\n",
    "    )\n",
    "\n",
    "    ax.legend(['Sub_metering_1', 'Sub_metering_2', 'Sub_metering_3'])\n",
    "    ax.set_ylabel('Energy sub metering')\n",
    "    # ax.xaxis.set_major_locator(WeekdayLocator(byweekday=(1, 2, 3, 4, 5, 6, 7)))\n",
    "    # ax.xaxis.set_major_formatter(DateFormatter('%a'))\n",
    "    set_weekday(ax.xaxis)\n",
    "    return ax"
   ]
  },
  {
   "cell_type": "code",
   "execution_count": 20,
   "metadata": {
    "colab": {
     "base_uri": "https://localhost:8080/",
     "height": 282
    },
    "executionInfo": {
     "elapsed": 126,
     "status": "ok",
     "timestamp": 1654784405584,
     "user": {
      "displayName": "Nam Mai",
      "userId": "13418946053371409704"
     },
     "user_tz": -420
    },
    "id": "kdkczFGK5ZGU",
    "outputId": "55e06e26-d63c-47c6-dfd0-fa5d8ab0d4a5"
   },
   "outputs": [
    {
     "data": {
      "text/plain": [
       "<AxesSubplot:ylabel='Energy sub metering'>"
      ]
     },
     "execution_count": 20,
     "metadata": {},
     "output_type": "execute_result"
    },
    {
     "data": {
      "image/png": "[encoded data removed]",
      "text/plain": [
       "<Figure size 432x288 with 1 Axes>"
      ]
     },
     "metadata": {
      "needs_background": "light"
     },
     "output_type": "display_data"
    }
   ],
   "source": [
    "fig3, ax3 = plt.subplots()\n",
    "plot_esm_time(fig3, ax3)"
   ]
  },
  {
   "cell_type": "code",
   "execution_count": 21,
   "metadata": {
    "colab": {
     "base_uri": "https://localhost:8080/",
     "height": 282
    },
    "executionInfo": {
     "elapsed": 131,
     "status": "ok",
     "timestamp": 1654784405605,
     "user": {
      "displayName": "Nam Mai",
      "userId": "13418946053371409704"
     },
     "user_tz": -420
    },
    "id": "nI5963GQ52L9",
    "outputId": "c0629b4f-db90-4cb0-b2df-5cc7fe5e0d3f"
   },
   "outputs": [
    {
     "data": {
      "text/plain": [
       "<AxesSubplot:ylabel='Voltage'>"
      ]
     },
     "execution_count": 21,
     "metadata": {},
     "output_type": "execute_result"
    },
    {
     "data": {
      "image/png": "[encoded data removed]",
      "text/plain": [
       "<Figure size 432x288 with 1 Axes>"
      ]
     },
     "metadata": {
      "needs_background": "light"
     },
     "output_type": "display_data"
    }
   ],
   "source": [
    "def plot_voltage_time(fig, ax):\n",
    "    ax.plot(\n",
    "        df['Timestamp'], df['Voltage'],\n",
    "        color='black',\n",
    "        linewidth=0.75,\n",
    "    )\n",
    "\n",
    "    set_weekday(ax.xaxis)\n",
    "    ax.set_ylabel('Voltage')\n",
    "    return ax\n",
    "fig, ax = plt.subplots()\n",
    "plot_voltage_time(fig, ax)"
   ]
  },
  {
   "cell_type": "code",
   "execution_count": 22,
   "metadata": {
    "executionInfo": {
     "elapsed": 119,
     "status": "ok",
     "timestamp": 1654784405615,
     "user": {
      "displayName": "Nam Mai",
      "userId": "13418946053371409704"
     },
     "user_tz": -420
    },
    "id": "Pk_6u64D6GEC"
   },
   "outputs": [],
   "source": [
    "def plot_grp_time(fig, ax):\n",
    "    ax.plot(\n",
    "        df['Timestamp'], df['Global_reactive_power'],\n",
    "        color='black',\n",
    "        linewidth=0.75,\n",
    "    )\n",
    "\n",
    "    ax.set_ylabel('Global Reactive Power')\n",
    "    set_weekday(ax.xaxis)\n",
    "    return ax"
   ]
  },
  {
   "cell_type": "code",
   "execution_count": 23,
   "metadata": {
    "colab": {
     "base_uri": "https://localhost:8080/",
     "height": 282
    },
    "executionInfo": {
     "elapsed": 932,
     "status": "ok",
     "timestamp": 1654784406431,
     "user": {
      "displayName": "Nam Mai",
      "userId": "13418946053371409704"
     },
     "user_tz": -420
    },
    "id": "9l544Wvl_U3B",
    "outputId": "a3a7b8be-1562-4fc0-99d0-45153939e1e8"
   },
   "outputs": [
    {
     "data": {
      "text/plain": [
       "<AxesSubplot:ylabel='Global Reactive Power'>"
      ]
     },
     "execution_count": 23,
     "metadata": {},
     "output_type": "execute_result"
    },
    {
     "data": {
      "image/png": "[encoded data removed]",
      "text/plain": [
       "<Figure size 432x288 with 1 Axes>"
      ]
     },
     "metadata": {
      "needs_background": "light"
     },
     "output_type": "display_data"
    }
   ],
   "source": [
    "fig, ax = plt.subplots()\n",
    "plot_grp_time(fig, ax)"
   ]
  },
  {
   "cell_type": "code",
   "execution_count": 24,
   "metadata": {
    "executionInfo": {
     "elapsed": 69,
     "status": "ok",
     "timestamp": 1654784406441,
     "user": {
      "displayName": "Nam Mai",
      "userId": "13418946053371409704"
     },
     "user_tz": -420
    },
    "id": "lftQNRMq9e75"
   },
   "outputs": [],
   "source": [
    "def plot1():\n",
    "    fig, ax = plt.subplots()\n",
    "    plot_gap_hist(fig, ax)\n",
    "    fig.savefig('plot1.png')"
   ]
  },
  {
   "cell_type": "code",
   "execution_count": 25,
   "metadata": {
    "executionInfo": {
     "elapsed": 61,
     "status": "ok",
     "timestamp": 1654784406454,
     "user": {
      "displayName": "Nam Mai",
      "userId": "13418946053371409704"
     },
     "user_tz": -420
    },
    "id": "_dSFBgQh9xSb"
   },
   "outputs": [],
   "source": [
    "def plot2():\n",
    "    fig, ax = plt.subplots()\n",
    "    plot_gap_time(fig, ax)\n",
    "    fig.savefig('plot2.png')"
   ]
  },
  {
   "cell_type": "code",
   "execution_count": 26,
   "metadata": {
    "executionInfo": {
     "elapsed": 59,
     "status": "ok",
     "timestamp": 1654784406458,
     "user": {
      "displayName": "Nam Mai",
      "userId": "13418946053371409704"
     },
     "user_tz": -420
    },
    "id": "3BK-VYXd93YC"
   },
   "outputs": [],
   "source": [
    "def plot3():\n",
    "    fig, ax = plt.subplots()\n",
    "    plot_esm_time(fig, ax)\n",
    "    fig.savefig('plot3.png')"
   ]
  },
  {
   "cell_type": "code",
   "execution_count": 27,
   "metadata": {
    "executionInfo": {
     "elapsed": 66,
     "status": "ok",
     "timestamp": 1654784406470,
     "user": {
      "displayName": "Nam Mai",
      "userId": "13418946053371409704"
     },
     "user_tz": -420
    },
    "id": "BglOUGKG98-y"
   },
   "outputs": [],
   "source": [
    "def plot4():\n",
    "    fig, axes = plt.subplots(2, 2, figsize=(8, 6))\n",
    "\n",
    "    plot_gap_time(fig, axes[0][0])\n",
    "    plot_voltage_time(fig, axes[0][1])\n",
    "    plot_esm_time(fig, axes[1][0])\n",
    "    plot_grp_time(fig, axes[1][1])\n",
    "    fig.tight_layout(pad=3)\n",
    "\n",
    "    fig.savefig('plot4.png')"
   ]
  },
  {
   "cell_type": "code",
   "execution_count": 28,
   "metadata": {
    "colab": {
     "base_uri": "https://localhost:8080/",
     "height": 1000
    },
    "executionInfo": {
     "elapsed": 2920,
     "status": "ok",
     "timestamp": 1654784409328,
     "user": {
      "displayName": "Nam Mai",
      "userId": "13418946053371409704"
     },
     "user_tz": -420
    },
    "id": "p43cj6Eb-xEx",
    "outputId": "29927753-db40-49fa-a5ac-a9be13d137e2"
   },
   "outputs": [
    {
     "data": {
      "image/png": "[encoded data removed]",
      "text/plain": [
       "<Figure size 432x288 with 1 Axes>"
      ]
     },
     "metadata": {
      "needs_background": "light"
     },
     "output_type": "display_data"
    },
    {
     "data": {
      "image/png": "[encoded data removed]",
      "text/plain": [
       "<Figure size 432x288 with 1 Axes>"
      ]
     },
     "metadata": {
      "needs_background": "light"
     },
     "output_type": "display_data"
    },
    {
     "data": {
      "image/png": "[encoded data removed]",
      "text/plain": [
       "<Figure size 432x288 with 1 Axes>"
      ]
     },
     "metadata": {
      "needs_background": "light"
     },
     "output_type": "display_data"
    },
    {
     "data": {
      "image/png": "[encoded data removed]",
      "text/plain": [
       "<Figure size 576x432 with 4 Axes>"
      ]
     },
     "metadata": {
      "needs_background": "light"
     },
     "output_type": "display_data"
    }
   ],
   "source": [
    "plot1()\n",
    "plot2()\n",
    "plot3()\n",
    "plot4()"
   ]
  }
 ],
 "metadata": {
  "colab": {
   "authorship_tag": "ABX9TyPoIz2topqJKqm2jCP/aua1",
   "collapsed_sections": [],
   "name": "Lab 3",
   "provenance": []
  },
  "kernelspec": {
   "display_name": "Python 3 (ipykernel)",
   "language": "python",
   "name": "python3"
  },
  "language_info": {
   "codemirror_mode": {
    "name": "ipython",
    "version": 3
   },
   "file_extension": ".py",
   "mimetype": "text/x-python",
   "name": "python",
   "nbconvert_exporter": "python",
   "pygments_lexer": "ipython3",
   "version": "3.9.12"
  }
 },
 "nbformat": 4,
 "nbformat_minor": 1
}
